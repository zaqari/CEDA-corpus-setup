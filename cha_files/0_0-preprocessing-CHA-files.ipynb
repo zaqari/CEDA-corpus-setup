{
 "cells": [
  {
   "metadata": {},
   "cell_type": "markdown",
   "source": "# Pre-processing a .CHA file for use in CE analysis",
   "id": "5e94352c3f72751d"
  },
  {
   "metadata": {
    "ExecuteTime": {
     "end_time": "2025-02-15T15:24:00.324200Z",
     "start_time": "2025-02-15T15:23:59.778151Z"
    }
   },
   "cell_type": "code",
   "source": [
    "import os\n",
    "import sys\n",
    "import pandas as pd\n",
    "from tqdm import tqdm"
   ],
   "id": "e7876c4b2f71e578",
   "outputs": [],
   "execution_count": 1
  },
  {
   "metadata": {
    "ExecuteTime": {
     "end_time": "2025-02-15T15:24:00.328104Z",
     "start_time": "2025-02-15T15:24:00.325345Z"
    }
   },
   "cell_type": "code",
   "source": [
    "data_path = '../data'\n",
    "chas_path = os.path.join(data_path, 'chas')\n",
    "outputs_path = os.path.join(data_path, 'server_ready', 'corpus.csv')"
   ],
   "id": "40032c140cd25bb0",
   "outputs": [],
   "execution_count": 2
  },
  {
   "metadata": {
    "ExecuteTime": {
     "end_time": "2025-02-15T15:24:00.333583Z",
     "start_time": "2025-02-15T15:24:00.329293Z"
    }
   },
   "cell_type": "code",
   "source": [
    "def grab_all_files(PATH, file_type='.cha'):\n",
    "    files = [\n",
    "        [\n",
    "            os.path.join(root, f) for f in files \n",
    "            if f.endswith(file_type) and (not f.startswith('._'))\n",
    "        ] \n",
    "        for root, _, files in os.walk(PATH) \n",
    "    ]\n",
    "    return sum(files, [])"
   ],
   "id": "f987b8ca2315854",
   "outputs": [],
   "execution_count": 3
  },
  {
   "metadata": {},
   "cell_type": "markdown",
   "source": [
    "# Processing all CHA files\n",
    "\n",
    "Note: the package used here was developed by Prof. Garber. Cite via:\n",
    "\n",
    "Garber, L. (2019). CHA file python parser. Zenodo. https://doi.org/10.5281/zenodo.3364020"
   ],
   "id": "2f3b9a1c4d77950b"
  },
  {
   "metadata": {
    "ExecuteTime": {
     "end_time": "2025-02-15T15:24:00.348905Z",
     "start_time": "2025-02-15T15:24:00.335179Z"
    }
   },
   "cell_type": "code",
   "source": "from shared.CHAFile import *",
   "id": "347f21917529b40d",
   "outputs": [],
   "execution_count": 4
  },
  {
   "metadata": {
    "ExecuteTime": {
     "end_time": "2025-02-15T15:24:00.360469Z",
     "start_time": "2025-02-15T15:24:00.352228Z"
    }
   },
   "cell_type": "code",
   "source": [
    "all_files = grab_all_files(chas_path)\n",
    "# all_files"
   ],
   "id": "2e7978dab8959269",
   "outputs": [],
   "execution_count": 5
  },
  {
   "metadata": {},
   "cell_type": "markdown",
   "source": "",
   "id": "1e324591b90158e2"
  },
  {
   "metadata": {
    "ExecuteTime": {
     "end_time": "2025-02-15T15:24:01.776717Z",
     "start_time": "2025-02-15T15:24:00.516431Z"
    }
   },
   "cell_type": "code",
   "source": [
    "data = []\n",
    "for f in all_files:\n",
    "    chacha = ChaFile(f)\n",
    "    meta_data_pieces = f.replace('.cha', '').split('/')\n",
    "    for line in chacha.getLines():\n",
    "        line['conversation_id'] = meta_data_pieces[-1]\n",
    "        line['overlapping_text'] = bool(re.findall(r\"(⌋|⌊|⌉|⌈)\", line['text']))\n",
    "\n",
    "        if meta_data_pieces[-2] in ['eng_n', 'eng_s']:\n",
    "            line['corpus'] = meta_data_pieces[-3] + '-' + meta_data_pieces[-2]\n",
    "        else:\n",
    "            line['corpus'] = meta_data_pieces[-2]\n",
    "        data += [line.copy()]\n",
    "data = pd.DataFrame(data)"
   ],
   "id": "77cb1416009bec2",
   "outputs": [
    {
     "name": "stdout",
     "output_type": "stream",
     "text": [
      "Warning: no language found\n",
      "Warning: no language found\n",
      "Warning: no language found\n",
      "Warning: no language found\n",
      "Warning: no language found\n",
      "Warning: no language found\n",
      "Warning: no language found\n",
      "Warning: no language found\n",
      "Warning: no language found\n",
      "Warning: no language found\n",
      "Warning: no language found\n",
      "Warning: no language found\n",
      "Warning: no language found\n",
      "Warning: no language found\n",
      "Warning: no language found\n",
      "Warning: no language found\n",
      "Warning: no language found\n",
      "Warning: no language found\n",
      "Warning: no language found\n",
      "Warning: no language found\n",
      "Warning: no language found\n",
      "Warning: no language found\n",
      "Warning: no language found\n",
      "Warning: no language found\n",
      "Warning: no language found\n",
      "Warning: no language found\n",
      "Warning: no language found\n",
      "Warning: no language found\n",
      "Warning: no language found\n",
      "Warning: no language found\n",
      "Warning: no language found\n",
      "Warning: no language found\n",
      "Warning: no language found\n",
      "Warning: no language found\n",
      "Warning: no language found\n",
      "Warning: no language found\n",
      "Warning: no language found\n",
      "Warning: no language found\n",
      "Warning: no language found\n",
      "Warning: no language found\n",
      "Warning: no language found\n",
      "Warning: no language found\n",
      "Warning: no language found\n"
     ]
    }
   ],
   "execution_count": 6
  },
  {
   "metadata": {
    "ExecuteTime": {
     "end_time": "2025-02-15T15:24:01.793062Z",
     "start_time": "2025-02-15T15:24:01.778647Z"
    }
   },
   "cell_type": "code",
   "source": "data.head()",
   "id": "69434a8440210a72",
   "outputs": [
    {
     "data": {
      "text/plain": [
       "   document_line_no  utterance_no speaker  \\\n",
       "0                17             1      M1   \n",
       "1                18             2      M2   \n",
       "2                19             3      M1   \n",
       "3                21             4      M2   \n",
       "4                22             5      M1   \n",
       "\n",
       "                                                text         bullet recipient  \\\n",
       "0                   you don't want to be recorded ↗    [1104, 2592]     ADULT   \n",
       "1                                 oh I don't care →    [2752, 3472]     ADULT   \n",
       "2  ∙hhh (0.7) all right, so ah this is for the Un...   [3952, 7200]     ADULT   \n",
       "3                  (0.4) oh ⌈I I still don't mind⌉→    [7424, 9040]     ADULT   \n",
       "4      ⌊oh, and we've got⌋ thirty minutes to talk →   [7564, 10160]     ADULT   \n",
       "\n",
       "  conversation_id  overlapping_text            corpus  com  mor  gra  exp  \n",
       "0            6269             False  callfriend-eng_s  NaN  NaN  NaN  NaN  \n",
       "1            6269             False  callfriend-eng_s  NaN  NaN  NaN  NaN  \n",
       "2            6269             False  callfriend-eng_s  NaN  NaN  NaN  NaN  \n",
       "3            6269              True  callfriend-eng_s  NaN  NaN  NaN  NaN  \n",
       "4            6269              True  callfriend-eng_s  NaN  NaN  NaN  NaN  "
      ],
      "text/html": [
       "<div>\n",
       "<style scoped>\n",
       "    .dataframe tbody tr th:only-of-type {\n",
       "        vertical-align: middle;\n",
       "    }\n",
       "\n",
       "    .dataframe tbody tr th {\n",
       "        vertical-align: top;\n",
       "    }\n",
       "\n",
       "    .dataframe thead th {\n",
       "        text-align: right;\n",
       "    }\n",
       "</style>\n",
       "<table border=\"1\" class=\"dataframe\">\n",
       "  <thead>\n",
       "    <tr style=\"text-align: right;\">\n",
       "      <th></th>\n",
       "      <th>document_line_no</th>\n",
       "      <th>utterance_no</th>\n",
       "      <th>speaker</th>\n",
       "      <th>text</th>\n",
       "      <th>bullet</th>\n",
       "      <th>recipient</th>\n",
       "      <th>conversation_id</th>\n",
       "      <th>overlapping_text</th>\n",
       "      <th>corpus</th>\n",
       "      <th>com</th>\n",
       "      <th>mor</th>\n",
       "      <th>gra</th>\n",
       "      <th>exp</th>\n",
       "    </tr>\n",
       "  </thead>\n",
       "  <tbody>\n",
       "    <tr>\n",
       "      <th>0</th>\n",
       "      <td>17</td>\n",
       "      <td>1</td>\n",
       "      <td>M1</td>\n",
       "      <td>you don't want to be recorded ↗</td>\n",
       "      <td>[1104, 2592]</td>\n",
       "      <td>ADULT</td>\n",
       "      <td>6269</td>\n",
       "      <td>False</td>\n",
       "      <td>callfriend-eng_s</td>\n",
       "      <td>NaN</td>\n",
       "      <td>NaN</td>\n",
       "      <td>NaN</td>\n",
       "      <td>NaN</td>\n",
       "    </tr>\n",
       "    <tr>\n",
       "      <th>1</th>\n",
       "      <td>18</td>\n",
       "      <td>2</td>\n",
       "      <td>M2</td>\n",
       "      <td>oh I don't care →</td>\n",
       "      <td>[2752, 3472]</td>\n",
       "      <td>ADULT</td>\n",
       "      <td>6269</td>\n",
       "      <td>False</td>\n",
       "      <td>callfriend-eng_s</td>\n",
       "      <td>NaN</td>\n",
       "      <td>NaN</td>\n",
       "      <td>NaN</td>\n",
       "      <td>NaN</td>\n",
       "    </tr>\n",
       "    <tr>\n",
       "      <th>2</th>\n",
       "      <td>19</td>\n",
       "      <td>3</td>\n",
       "      <td>M1</td>\n",
       "      <td>∙hhh (0.7) all right, so ah this is for the Un...</td>\n",
       "      <td>[3952, 7200]</td>\n",
       "      <td>ADULT</td>\n",
       "      <td>6269</td>\n",
       "      <td>False</td>\n",
       "      <td>callfriend-eng_s</td>\n",
       "      <td>NaN</td>\n",
       "      <td>NaN</td>\n",
       "      <td>NaN</td>\n",
       "      <td>NaN</td>\n",
       "    </tr>\n",
       "    <tr>\n",
       "      <th>3</th>\n",
       "      <td>21</td>\n",
       "      <td>4</td>\n",
       "      <td>M2</td>\n",
       "      <td>(0.4) oh ⌈I I still don't mind⌉→</td>\n",
       "      <td>[7424, 9040]</td>\n",
       "      <td>ADULT</td>\n",
       "      <td>6269</td>\n",
       "      <td>True</td>\n",
       "      <td>callfriend-eng_s</td>\n",
       "      <td>NaN</td>\n",
       "      <td>NaN</td>\n",
       "      <td>NaN</td>\n",
       "      <td>NaN</td>\n",
       "    </tr>\n",
       "    <tr>\n",
       "      <th>4</th>\n",
       "      <td>22</td>\n",
       "      <td>5</td>\n",
       "      <td>M1</td>\n",
       "      <td>⌊oh, and we've got⌋ thirty minutes to talk →</td>\n",
       "      <td>[7564, 10160]</td>\n",
       "      <td>ADULT</td>\n",
       "      <td>6269</td>\n",
       "      <td>True</td>\n",
       "      <td>callfriend-eng_s</td>\n",
       "      <td>NaN</td>\n",
       "      <td>NaN</td>\n",
       "      <td>NaN</td>\n",
       "      <td>NaN</td>\n",
       "    </tr>\n",
       "  </tbody>\n",
       "</table>\n",
       "</div>"
      ]
     },
     "execution_count": 7,
     "metadata": {},
     "output_type": "execute_result"
    }
   ],
   "execution_count": 7
  },
  {
   "metadata": {},
   "cell_type": "markdown",
   "source": "### Correcting utterances/removing CLAN specific formatting.",
   "id": "7b67aab3492b18d6"
  },
  {
   "metadata": {
    "ExecuteTime": {
     "end_time": "2025-02-15T15:24:04.416394Z",
     "start_time": "2025-02-15T15:24:04.412703Z"
    }
   },
   "cell_type": "code",
   "source": [
    "def corrected_text(text, contraction_replacement_nonce='CCOONNTTRRAACCTTIIOONN'):\n",
    "    res = re.sub(r'\\(\\(.*?\\)\\)', ' ', str(text))\n",
    "    # res = re.sub(r'\\[.*?\\]', ' ', res)\n",
    "    \n",
    "    # find contractions and preserve them . . .\n",
    "    contractions = list(re.findall(r\"\\w+'\\w+\", res))\n",
    "    for contraction in set(contractions):\n",
    "        replacement = contraction.replace(\"'\", contraction_replacement_nonce)\n",
    "        res = res.replace(contraction, replacement)\n",
    "    res = re.sub(r\"(⌋|⌊|⌉|⌈)\", '', res)\n",
    "    res = res.replace(':', '')\n",
    "    \n",
    "    # remove numbers in parentheses (times???)\n",
    "    res = re.sub(r'\\(\\d\\.\\d\\)', ' ', res)\n",
    "    \n",
    "    # remove all other special characters.\n",
    "    res = re.sub(r'[^\\w\\s]', ' ', res)\n",
    "    \n",
    "    res = re.sub(r'\\s+', ' ', res).replace('[', ' ').replace(']', ' ').replace(contraction_replacement_nonce, \"'\")\n",
    "    return res.strip()"
   ],
   "id": "aad6f59b259f7010",
   "outputs": [],
   "execution_count": 8
  },
  {
   "metadata": {
    "ExecuteTime": {
     "end_time": "2025-02-15T15:24:05.786257Z",
     "start_time": "2025-02-15T15:24:05.131031Z"
    }
   },
   "cell_type": "code",
   "source": [
    "data['raw_text'] = data['text'].values\n",
    "data['text'] = [corrected_text(text) for text in tqdm(data['raw_text'].values)]"
   ],
   "id": "2c91f466addf86b",
   "outputs": [
    {
     "name": "stderr",
     "output_type": "stream",
     "text": [
      "100%|██████████| 79664/79664 [00:00<00:00, 129129.72it/s]\n"
     ]
    }
   ],
   "execution_count": 9
  },
  {
   "metadata": {
    "ExecuteTime": {
     "end_time": "2025-02-15T15:24:05.797783Z",
     "start_time": "2025-02-15T15:24:05.787904Z"
    }
   },
   "cell_type": "code",
   "source": "data[['corpus', 'raw_text', 'text']].head(n=6)",
   "id": "3ec71bc3ab9f098a",
   "outputs": [
    {
     "data": {
      "text/plain": [
       "             corpus                                           raw_text  \\\n",
       "0  callfriend-eng_s                   you don't want to be recorded ↗    \n",
       "1  callfriend-eng_s                                 oh I don't care →    \n",
       "2  callfriend-eng_s  ∙hhh (0.7) all right, so ah this is for the Un...   \n",
       "3  callfriend-eng_s                  (0.4) oh ⌈I I still don't mind⌉→    \n",
       "4  callfriend-eng_s      ⌊oh, and we've got⌋ thirty minutes to talk →    \n",
       "5  callfriend-eng_s        (0.6) ☺we've thirty minutes to talk☺oh ok→    \n",
       "\n",
       "                                                text  \n",
       "0                      you don't want to be recorded  \n",
       "1                                    oh I don't care  \n",
       "2  hhh all right so ah this is for the University...  \n",
       "3                            oh I I still don't mind  \n",
       "4            oh and we've got thirty minutes to talk  \n",
       "5                 we've thirty minutes to talk oh ok  "
      ],
      "text/html": [
       "<div>\n",
       "<style scoped>\n",
       "    .dataframe tbody tr th:only-of-type {\n",
       "        vertical-align: middle;\n",
       "    }\n",
       "\n",
       "    .dataframe tbody tr th {\n",
       "        vertical-align: top;\n",
       "    }\n",
       "\n",
       "    .dataframe thead th {\n",
       "        text-align: right;\n",
       "    }\n",
       "</style>\n",
       "<table border=\"1\" class=\"dataframe\">\n",
       "  <thead>\n",
       "    <tr style=\"text-align: right;\">\n",
       "      <th></th>\n",
       "      <th>corpus</th>\n",
       "      <th>raw_text</th>\n",
       "      <th>text</th>\n",
       "    </tr>\n",
       "  </thead>\n",
       "  <tbody>\n",
       "    <tr>\n",
       "      <th>0</th>\n",
       "      <td>callfriend-eng_s</td>\n",
       "      <td>you don't want to be recorded ↗</td>\n",
       "      <td>you don't want to be recorded</td>\n",
       "    </tr>\n",
       "    <tr>\n",
       "      <th>1</th>\n",
       "      <td>callfriend-eng_s</td>\n",
       "      <td>oh I don't care →</td>\n",
       "      <td>oh I don't care</td>\n",
       "    </tr>\n",
       "    <tr>\n",
       "      <th>2</th>\n",
       "      <td>callfriend-eng_s</td>\n",
       "      <td>∙hhh (0.7) all right, so ah this is for the Un...</td>\n",
       "      <td>hhh all right so ah this is for the University...</td>\n",
       "    </tr>\n",
       "    <tr>\n",
       "      <th>3</th>\n",
       "      <td>callfriend-eng_s</td>\n",
       "      <td>(0.4) oh ⌈I I still don't mind⌉→</td>\n",
       "      <td>oh I I still don't mind</td>\n",
       "    </tr>\n",
       "    <tr>\n",
       "      <th>4</th>\n",
       "      <td>callfriend-eng_s</td>\n",
       "      <td>⌊oh, and we've got⌋ thirty minutes to talk →</td>\n",
       "      <td>oh and we've got thirty minutes to talk</td>\n",
       "    </tr>\n",
       "    <tr>\n",
       "      <th>5</th>\n",
       "      <td>callfriend-eng_s</td>\n",
       "      <td>(0.6) ☺we've thirty minutes to talk☺oh ok→</td>\n",
       "      <td>we've thirty minutes to talk oh ok</td>\n",
       "    </tr>\n",
       "  </tbody>\n",
       "</table>\n",
       "</div>"
      ]
     },
     "execution_count": 10,
     "metadata": {},
     "output_type": "execute_result"
    }
   ],
   "execution_count": 10
  },
  {
   "metadata": {},
   "cell_type": "markdown",
   "source": "## Create juxtaposed corpus: (x,y) pairs",
   "id": "bbb1a5ffdfd07efd"
  },
  {
   "metadata": {
    "ExecuteTime": {
     "end_time": "2025-02-15T15:24:08.677261Z",
     "start_time": "2025-02-15T15:24:08.674383Z"
    }
   },
   "cell_type": "code",
   "source": "max_turns_apart = 10",
   "id": "a5e539a41d7c034",
   "outputs": [],
   "execution_count": 11
  },
  {
   "metadata": {
    "ExecuteTime": {
     "end_time": "2025-02-15T15:27:00.819194Z",
     "start_time": "2025-02-15T15:25:37.724885Z"
    }
   },
   "cell_type": "code",
   "source": [
    "import warnings; warnings.filterwarnings(\"ignore\")\n",
    "\n",
    "corpus = []\n",
    "for cid in tqdm(data['conversation_id'].unique()):\n",
    "    sub = data.loc[data['conversation_id'].isin([cid])]\n",
    "    sub_index = sub.index.values\n",
    "    \n",
    "    for i in sub_index:\n",
    "        if i != sub_index[-1]:\n",
    "            \n",
    "            # speaker vs. other\n",
    "            next_line_no = ( (sub_index > i) & (~sub['speaker'].isin([sub['speaker'].loc[i]])) ).values.nonzero()[0]\n",
    "            next_line_no = sub_index[next_line_no][:(max_turns_apart+1)]\n",
    "            # next_line_no = next_line_no[next_line_no <= (i + max_turns_apart)]\n",
    "            for j,li in enumerate(next_line_no):\n",
    "                d = data.loc[i].to_dict()\n",
    "                \n",
    "                d['next_speaker'] = data['speaker'].loc[li]\n",
    "                d['next_text'] = data['text'].loc[li]\n",
    "                d['next_utterance_no'] = data['utterance_no'].loc[li]\n",
    "                d['next_utterance_delta_no'] = j\n",
    "                \n",
    "                corpus += [d]\n",
    "            \n",
    "            # speaker vs. self \n",
    "            next_line_no = ( (sub_index > i) & (sub['speaker'].isin([sub['speaker'].loc[i]])) ).values.nonzero()[0]\n",
    "            next_line_no = sub_index[next_line_no][:(max_turns_apart+1)]\n",
    "            # next_line_no = next_line_no[next_line_no <= (i + max_turns_apart)]\n",
    "            for j,li in enumerate(next_line_no):\n",
    "                d = data.loc[i].to_dict()\n",
    "                \n",
    "                d['next_speaker'] = data['speaker'].loc[li]\n",
    "                d['next_text'] = data['text'].loc[li]\n",
    "                d['next_utterance_no'] = data['utterance_no'].loc[li]\n",
    "                d['next_utterance_delta_no'] = j\n",
    "                \n",
    "                corpus += [d]"
   ],
   "id": "c50937b39dbe82f2",
   "outputs": [
    {
     "name": "stderr",
     "output_type": "stream",
     "text": [
      "100%|██████████| 217/217 [01:23<00:00,  2.61it/s]\n"
     ]
    }
   ],
   "execution_count": 12
  },
  {
   "metadata": {
    "ExecuteTime": {
     "end_time": "2025-02-15T15:27:03.414388Z",
     "start_time": "2025-02-15T15:27:00.820211Z"
    }
   },
   "cell_type": "code",
   "source": [
    "data = pd.DataFrame(corpus)\n",
    "data.head()"
   ],
   "id": "a791d4191d6a6e5f",
   "outputs": [
    {
     "data": {
      "text/plain": [
       "   document_line_no  utterance_no speaker                           text  \\\n",
       "0                17             1      M1  you don't want to be recorded   \n",
       "1                17             1      M1  you don't want to be recorded   \n",
       "2                17             1      M1  you don't want to be recorded   \n",
       "3                17             1      M1  you don't want to be recorded   \n",
       "4                17             1      M1  you don't want to be recorded   \n",
       "\n",
       "         bullet recipient conversation_id  overlapping_text            corpus  \\\n",
       "0  [1104, 2592]     ADULT            6269             False  callfriend-eng_s   \n",
       "1  [1104, 2592]     ADULT            6269             False  callfriend-eng_s   \n",
       "2  [1104, 2592]     ADULT            6269             False  callfriend-eng_s   \n",
       "3  [1104, 2592]     ADULT            6269             False  callfriend-eng_s   \n",
       "4  [1104, 2592]     ADULT            6269             False  callfriend-eng_s   \n",
       "\n",
       "   com  mor  gra  exp                          raw_text next_speaker  \\\n",
       "0  NaN  NaN  NaN  NaN  you don't want to be recorded ↗            M2   \n",
       "1  NaN  NaN  NaN  NaN  you don't want to be recorded ↗            M2   \n",
       "2  NaN  NaN  NaN  NaN  you don't want to be recorded ↗            M2   \n",
       "3  NaN  NaN  NaN  NaN  you don't want to be recorded ↗            M2   \n",
       "4  NaN  NaN  NaN  NaN  you don't want to be recorded ↗            M2   \n",
       "\n",
       "                                    next_text  next_utterance_no  \\\n",
       "0                             oh I don't care                  2   \n",
       "1                     oh I I still don't mind                  4   \n",
       "2          we've thirty minutes to talk oh ok                  6   \n",
       "3                                alright well                  8   \n",
       "4  I I know I'm I'm prattling with a pro here                 10   \n",
       "\n",
       "   next_utterance_delta_no  \n",
       "0                        0  \n",
       "1                        1  \n",
       "2                        2  \n",
       "3                        3  \n",
       "4                        4  "
      ],
      "text/html": [
       "<div>\n",
       "<style scoped>\n",
       "    .dataframe tbody tr th:only-of-type {\n",
       "        vertical-align: middle;\n",
       "    }\n",
       "\n",
       "    .dataframe tbody tr th {\n",
       "        vertical-align: top;\n",
       "    }\n",
       "\n",
       "    .dataframe thead th {\n",
       "        text-align: right;\n",
       "    }\n",
       "</style>\n",
       "<table border=\"1\" class=\"dataframe\">\n",
       "  <thead>\n",
       "    <tr style=\"text-align: right;\">\n",
       "      <th></th>\n",
       "      <th>document_line_no</th>\n",
       "      <th>utterance_no</th>\n",
       "      <th>speaker</th>\n",
       "      <th>text</th>\n",
       "      <th>bullet</th>\n",
       "      <th>recipient</th>\n",
       "      <th>conversation_id</th>\n",
       "      <th>overlapping_text</th>\n",
       "      <th>corpus</th>\n",
       "      <th>com</th>\n",
       "      <th>mor</th>\n",
       "      <th>gra</th>\n",
       "      <th>exp</th>\n",
       "      <th>raw_text</th>\n",
       "      <th>next_speaker</th>\n",
       "      <th>next_text</th>\n",
       "      <th>next_utterance_no</th>\n",
       "      <th>next_utterance_delta_no</th>\n",
       "    </tr>\n",
       "  </thead>\n",
       "  <tbody>\n",
       "    <tr>\n",
       "      <th>0</th>\n",
       "      <td>17</td>\n",
       "      <td>1</td>\n",
       "      <td>M1</td>\n",
       "      <td>you don't want to be recorded</td>\n",
       "      <td>[1104, 2592]</td>\n",
       "      <td>ADULT</td>\n",
       "      <td>6269</td>\n",
       "      <td>False</td>\n",
       "      <td>callfriend-eng_s</td>\n",
       "      <td>NaN</td>\n",
       "      <td>NaN</td>\n",
       "      <td>NaN</td>\n",
       "      <td>NaN</td>\n",
       "      <td>you don't want to be recorded ↗</td>\n",
       "      <td>M2</td>\n",
       "      <td>oh I don't care</td>\n",
       "      <td>2</td>\n",
       "      <td>0</td>\n",
       "    </tr>\n",
       "    <tr>\n",
       "      <th>1</th>\n",
       "      <td>17</td>\n",
       "      <td>1</td>\n",
       "      <td>M1</td>\n",
       "      <td>you don't want to be recorded</td>\n",
       "      <td>[1104, 2592]</td>\n",
       "      <td>ADULT</td>\n",
       "      <td>6269</td>\n",
       "      <td>False</td>\n",
       "      <td>callfriend-eng_s</td>\n",
       "      <td>NaN</td>\n",
       "      <td>NaN</td>\n",
       "      <td>NaN</td>\n",
       "      <td>NaN</td>\n",
       "      <td>you don't want to be recorded ↗</td>\n",
       "      <td>M2</td>\n",
       "      <td>oh I I still don't mind</td>\n",
       "      <td>4</td>\n",
       "      <td>1</td>\n",
       "    </tr>\n",
       "    <tr>\n",
       "      <th>2</th>\n",
       "      <td>17</td>\n",
       "      <td>1</td>\n",
       "      <td>M1</td>\n",
       "      <td>you don't want to be recorded</td>\n",
       "      <td>[1104, 2592]</td>\n",
       "      <td>ADULT</td>\n",
       "      <td>6269</td>\n",
       "      <td>False</td>\n",
       "      <td>callfriend-eng_s</td>\n",
       "      <td>NaN</td>\n",
       "      <td>NaN</td>\n",
       "      <td>NaN</td>\n",
       "      <td>NaN</td>\n",
       "      <td>you don't want to be recorded ↗</td>\n",
       "      <td>M2</td>\n",
       "      <td>we've thirty minutes to talk oh ok</td>\n",
       "      <td>6</td>\n",
       "      <td>2</td>\n",
       "    </tr>\n",
       "    <tr>\n",
       "      <th>3</th>\n",
       "      <td>17</td>\n",
       "      <td>1</td>\n",
       "      <td>M1</td>\n",
       "      <td>you don't want to be recorded</td>\n",
       "      <td>[1104, 2592]</td>\n",
       "      <td>ADULT</td>\n",
       "      <td>6269</td>\n",
       "      <td>False</td>\n",
       "      <td>callfriend-eng_s</td>\n",
       "      <td>NaN</td>\n",
       "      <td>NaN</td>\n",
       "      <td>NaN</td>\n",
       "      <td>NaN</td>\n",
       "      <td>you don't want to be recorded ↗</td>\n",
       "      <td>M2</td>\n",
       "      <td>alright well</td>\n",
       "      <td>8</td>\n",
       "      <td>3</td>\n",
       "    </tr>\n",
       "    <tr>\n",
       "      <th>4</th>\n",
       "      <td>17</td>\n",
       "      <td>1</td>\n",
       "      <td>M1</td>\n",
       "      <td>you don't want to be recorded</td>\n",
       "      <td>[1104, 2592]</td>\n",
       "      <td>ADULT</td>\n",
       "      <td>6269</td>\n",
       "      <td>False</td>\n",
       "      <td>callfriend-eng_s</td>\n",
       "      <td>NaN</td>\n",
       "      <td>NaN</td>\n",
       "      <td>NaN</td>\n",
       "      <td>NaN</td>\n",
       "      <td>you don't want to be recorded ↗</td>\n",
       "      <td>M2</td>\n",
       "      <td>I I know I'm I'm prattling with a pro here</td>\n",
       "      <td>10</td>\n",
       "      <td>4</td>\n",
       "    </tr>\n",
       "  </tbody>\n",
       "</table>\n",
       "</div>"
      ]
     },
     "execution_count": 13,
     "metadata": {},
     "output_type": "execute_result"
    }
   ],
   "execution_count": 13
  },
  {
   "metadata": {
    "ExecuteTime": {
     "end_time": "2025-02-15T15:27:03.925393Z",
     "start_time": "2025-02-15T15:27:03.415374Z"
    }
   },
   "cell_type": "code",
   "source": [
    "data['self'] = data['speaker'] == data['next_speaker']\n",
    "data = data.sort_values(by=['corpus', 'conversation_id', 'utterance_no', 'self', 'next_utterance_no'])\n",
    "data.index = range(len(data))"
   ],
   "id": "a6adea209e7af449",
   "outputs": [],
   "execution_count": 14
  },
  {
   "metadata": {
    "ExecuteTime": {
     "end_time": "2025-02-15T15:27:04.078782Z",
     "start_time": "2025-02-15T15:27:03.926939Z"
    }
   },
   "cell_type": "code",
   "source": "data[['corpus', 'text', 'next_text']].isna().mean()",
   "id": "7a4eac354f8a3a1f",
   "outputs": [
    {
     "data": {
      "text/plain": [
       "corpus       0.0\n",
       "text         0.0\n",
       "next_text    0.0\n",
       "dtype: float64"
      ]
     },
     "execution_count": 15,
     "metadata": {},
     "output_type": "execute_result"
    }
   ],
   "execution_count": 15
  },
  {
   "metadata": {
    "ExecuteTime": {
     "end_time": "2025-02-15T15:27:04.154895Z",
     "start_time": "2025-02-15T15:27:04.079548Z"
    }
   },
   "cell_type": "code",
   "source": "data[['corpus', 'text', 'speaker', 'next_speaker', 'next_text', 'utterance_no', 'next_utterance_no']].head()",
   "id": "4a1899e626eda289",
   "outputs": [
    {
     "data": {
      "text/plain": [
       "             corpus             text speaker next_speaker  \\\n",
       "0  callfriend-eng_n  hhh hhh hhh hhh      M2           M1   \n",
       "1  callfriend-eng_n  hhh hhh hhh hhh      M2           M1   \n",
       "2  callfriend-eng_n  hhh hhh hhh hhh      M2           M1   \n",
       "3  callfriend-eng_n  hhh hhh hhh hhh      M2           M1   \n",
       "4  callfriend-eng_n  hhh hhh hhh hhh      M2           M1   \n",
       "\n",
       "                                           next_text  utterance_no  \\\n",
       "0            whatt they didn't say that in the thing             1   \n",
       "1                             publically distributed             1   \n",
       "2                                 I didn't read that             1   \n",
       "3                               hhh well the xxx was             1   \n",
       "4  no Janice was talking to one of her friends an...             1   \n",
       "\n",
       "   next_utterance_no  \n",
       "0                  2  \n",
       "1                  5  \n",
       "2                  7  \n",
       "3                  9  \n",
       "4                 11  "
      ],
      "text/html": [
       "<div>\n",
       "<style scoped>\n",
       "    .dataframe tbody tr th:only-of-type {\n",
       "        vertical-align: middle;\n",
       "    }\n",
       "\n",
       "    .dataframe tbody tr th {\n",
       "        vertical-align: top;\n",
       "    }\n",
       "\n",
       "    .dataframe thead th {\n",
       "        text-align: right;\n",
       "    }\n",
       "</style>\n",
       "<table border=\"1\" class=\"dataframe\">\n",
       "  <thead>\n",
       "    <tr style=\"text-align: right;\">\n",
       "      <th></th>\n",
       "      <th>corpus</th>\n",
       "      <th>text</th>\n",
       "      <th>speaker</th>\n",
       "      <th>next_speaker</th>\n",
       "      <th>next_text</th>\n",
       "      <th>utterance_no</th>\n",
       "      <th>next_utterance_no</th>\n",
       "    </tr>\n",
       "  </thead>\n",
       "  <tbody>\n",
       "    <tr>\n",
       "      <th>0</th>\n",
       "      <td>callfriend-eng_n</td>\n",
       "      <td>hhh hhh hhh hhh</td>\n",
       "      <td>M2</td>\n",
       "      <td>M1</td>\n",
       "      <td>whatt they didn't say that in the thing</td>\n",
       "      <td>1</td>\n",
       "      <td>2</td>\n",
       "    </tr>\n",
       "    <tr>\n",
       "      <th>1</th>\n",
       "      <td>callfriend-eng_n</td>\n",
       "      <td>hhh hhh hhh hhh</td>\n",
       "      <td>M2</td>\n",
       "      <td>M1</td>\n",
       "      <td>publically distributed</td>\n",
       "      <td>1</td>\n",
       "      <td>5</td>\n",
       "    </tr>\n",
       "    <tr>\n",
       "      <th>2</th>\n",
       "      <td>callfriend-eng_n</td>\n",
       "      <td>hhh hhh hhh hhh</td>\n",
       "      <td>M2</td>\n",
       "      <td>M1</td>\n",
       "      <td>I didn't read that</td>\n",
       "      <td>1</td>\n",
       "      <td>7</td>\n",
       "    </tr>\n",
       "    <tr>\n",
       "      <th>3</th>\n",
       "      <td>callfriend-eng_n</td>\n",
       "      <td>hhh hhh hhh hhh</td>\n",
       "      <td>M2</td>\n",
       "      <td>M1</td>\n",
       "      <td>hhh well the xxx was</td>\n",
       "      <td>1</td>\n",
       "      <td>9</td>\n",
       "    </tr>\n",
       "    <tr>\n",
       "      <th>4</th>\n",
       "      <td>callfriend-eng_n</td>\n",
       "      <td>hhh hhh hhh hhh</td>\n",
       "      <td>M2</td>\n",
       "      <td>M1</td>\n",
       "      <td>no Janice was talking to one of her friends an...</td>\n",
       "      <td>1</td>\n",
       "      <td>11</td>\n",
       "    </tr>\n",
       "  </tbody>\n",
       "</table>\n",
       "</div>"
      ]
     },
     "execution_count": 16,
     "metadata": {},
     "output_type": "execute_result"
    }
   ],
   "execution_count": 16
  },
  {
   "metadata": {
    "ExecuteTime": {
     "end_time": "2025-02-15T15:27:04.158798Z",
     "start_time": "2025-02-15T15:27:04.155747Z"
    }
   },
   "cell_type": "code",
   "source": "data.shape",
   "id": "a023ccdd0f80b058",
   "outputs": [
    {
     "data": {
      "text/plain": [
       "(1664299, 19)"
      ]
     },
     "execution_count": 17,
     "metadata": {},
     "output_type": "execute_result"
    }
   ],
   "execution_count": 17
  },
  {
   "metadata": {},
   "cell_type": "markdown",
   "source": "## Save outputs for server operations.",
   "id": "bca624654150c264"
  },
  {
   "metadata": {
    "ExecuteTime": {
     "end_time": "2025-02-15T15:27:12.295366Z",
     "start_time": "2025-02-15T15:27:04.159456Z"
    }
   },
   "cell_type": "code",
   "source": "data.to_csv(outputs_path, index=False, encoding='utf-8')",
   "id": "1a7c776cda78a433",
   "outputs": [],
   "execution_count": 18
  },
  {
   "metadata": {},
   "cell_type": "code",
   "source": "",
   "id": "34f96f44b2a4056a",
   "outputs": [],
   "execution_count": null
  }
 ],
 "metadata": {
  "kernelspec": {
   "display_name": "Python 3",
   "language": "python",
   "name": "python3"
  },
  "language_info": {
   "codemirror_mode": {
    "name": "ipython",
    "version": 2
   },
   "file_extension": ".py",
   "mimetype": "text/x-python",
   "name": "python",
   "nbconvert_exporter": "python",
   "pygments_lexer": "ipython2",
   "version": "2.7.6"
  }
 },
 "nbformat": 4,
 "nbformat_minor": 5
}
